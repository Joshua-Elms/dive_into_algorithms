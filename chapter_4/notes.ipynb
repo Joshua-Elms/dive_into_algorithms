{
 "cells": [
  {
   "cell_type": "markdown",
   "metadata": {},
   "source": [
    "# Chapter 4: Sorting and Searching\n",
    "\n",
    "### Topics: \n",
    "\n",
    "* Insertion Sort (Computational Complexity)\n",
    "\n",
    "* Merge Sort\n",
    "\n",
    "* Sleep Sort\n",
    "\n",
    "* Binary Search\n",
    "\n",
    "* Search Applications"
   ]
  },
  {
   "cell_type": "code",
   "execution_count": 2,
   "metadata": {},
   "outputs": [],
   "source": [
    "import matplotlib.pyplot as plt\n",
    "import numpy as np\n",
    "from time import perf_counter as pfc"
   ]
  },
  {
   "cell_type": "code",
   "execution_count": 3,
   "metadata": {},
   "outputs": [],
   "source": [
    "# set up plot format\n",
    "\n",
    "SMALL_SIZE = 12\n",
    "MEDIUM_SIZE = 18\n",
    "BIGGER_SIZE = 26\n",
    "CHONK_SIZE = 32\n",
    "font = {'family' : 'DIN Condensed',\n",
    "        'weight' : 'bold',\n",
    "        'size'   : SMALL_SIZE}\n",
    "plt.rc('font', **font)\n",
    "plt.rc('axes', titlesize=BIGGER_SIZE, labelsize=MEDIUM_SIZE, facecolor=\"xkcd:white\")\n",
    "plt.rc('xtick', labelsize=SMALL_SIZE)    # fontsize of the tick labels\n",
    "plt.rc('ytick', labelsize=SMALL_SIZE)    # fontsize of the tick labels\n",
    "plt.rc('legend', fontsize=SMALL_SIZE)    # legend fontsize\n",
    "plt.rc('figure', titlesize=CHONK_SIZE, facecolor=\"xkcd:white\", edgecolor=\"xkcd:black\") #  powder blue"
   ]
  },
  {
   "cell_type": "code",
   "execution_count": 4,
   "metadata": {},
   "outputs": [
    {
     "data": {
      "text/plain": [
       "[0, 1, 2, 5]"
      ]
     },
     "execution_count": 4,
     "metadata": {},
     "output_type": "execute_result"
    }
   ],
   "source": [
    "# Naive Insertion Sort\n",
    "\n",
    "def insert_to_sorted_list(new_item, lst):\n",
    "    for i, item in enumerate(lst):\n",
    "        if new_item < item:\n",
    "            lst.insert(i, new_item)\n",
    "            return lst\n",
    "            \n",
    "    lst.append(new_item)\n",
    "    return lst\n",
    "\n",
    "def insertion_sort(unsorted_lst):\n",
    "    sorted_lst = []\n",
    "    for i, item in enumerate(unsorted_lst):\n",
    "        sorted_lst = insert_to_sorted_list(item, sorted_lst)\n",
    "\n",
    "    return sorted_lst\n",
    "\n",
    "insertion_sort([5, 1, 2, 0])"
   ]
  },
  {
   "cell_type": "code",
   "execution_count": 6,
   "metadata": {},
   "outputs": [
    {
     "name": "stdout",
     "output_type": "stream",
     "text": [
      "Sorting list of length 25...\n",
      "Time elapsed: 2.8087059035897255e-05\n",
      "\n",
      "Sorting list of length 100...\n",
      "Time elapsed: 0.0001523289829492569\n",
      "\n",
      "Sorting list of length 225...\n",
      "Time elapsed: 0.0007850499823689461\n",
      "\n",
      "Sorting list of length 400...\n",
      "Time elapsed: 0.001876116031780839\n",
      "\n",
      "Sorting list of length 625...\n",
      "Time elapsed: 0.004479701980017126\n",
      "\n",
      "Sorting list of length 900...\n",
      "Time elapsed: 0.009963131975382566\n",
      "\n",
      "Sorting list of length 1225...\n",
      "Time elapsed: 0.018527583917602897\n",
      "\n",
      "Sorting list of length 1600...\n",
      "Time elapsed: 0.0307180299423635\n",
      "\n",
      "Sorting list of length 2025...\n",
      "Time elapsed: 0.053265959955751896\n",
      "\n",
      "Sorting list of length 2500...\n",
      "Time elapsed: 0.08607594191562384\n",
      "\n",
      "Sorting list of length 3025...\n",
      "Time elapsed: 0.11724349693395197\n",
      "\n",
      "Sorting list of length 3600...\n",
      "Time elapsed: 0.17415683693252504\n",
      "\n",
      "Sorting list of length 4225...\n",
      "Time elapsed: 0.23313270905055106\n",
      "\n",
      "Sorting list of length 4900...\n",
      "Time elapsed: 0.29726427292916924\n",
      "\n",
      "Sorting list of length 5625...\n",
      "Time elapsed: 0.392284665023908\n",
      "\n",
      "Sorting list of length 6400...\n",
      "Time elapsed: 0.5028225700370967\n",
      "\n",
      "Sorting list of length 7225...\n",
      "Time elapsed: 0.6677016100147739\n",
      "\n",
      "Sorting list of length 8100...\n",
      "Time elapsed: 0.8136783629888669\n",
      "\n",
      "Sorting list of length 9025...\n",
      "Time elapsed: 1.1000136310467497\n",
      "\n",
      "Sorting list of length 10000...\n",
      "Time elapsed: 1.286446004989557\n",
      "\n",
      "Sorting list of length 11025...\n",
      "Time elapsed: 1.5387580670649186\n",
      "\n",
      "Sorting list of length 12100...\n",
      "Time elapsed: 1.8520805300213397\n",
      "\n",
      "Sorting list of length 13225...\n",
      "Time elapsed: 2.2363746700575575\n",
      "\n",
      "Sorting list of length 14400...\n",
      "Time elapsed: 2.6220692239003256\n",
      "\n",
      "Sorting list of length 15625...\n",
      "Time elapsed: 3.2221933929249644\n",
      "\n",
      "Sorting list of length 16900...\n",
      "Time elapsed: 3.6849960070103407\n",
      "\n",
      "Sorting list of length 18225...\n",
      "Time elapsed: 4.222140243044123\n",
      "\n",
      "Sorting list of length 19600...\n",
      "Time elapsed: 4.9226307979552075\n",
      "\n",
      "Sorting list of length 21025...\n",
      "Time elapsed: 5.6246101359138265\n",
      "\n",
      "Sorting list of length 22500...\n",
      "Time elapsed: 6.44518004800193\n",
      "\n",
      "Sorting list of length 24025...\n",
      "Time elapsed: 7.667179891024716\n",
      "\n",
      "Sorting list of length 25600...\n",
      "Time elapsed: 8.410124768968672\n",
      "\n",
      "Sorting list of length 27225...\n",
      "Time elapsed: 9.902903047972359\n",
      "\n",
      "Sorting list of length 28900...\n",
      "Time elapsed: 11.25723240908701\n",
      "\n",
      "Sorting list of length 30625...\n",
      "Time elapsed: 12.239277599030174\n",
      "\n",
      "Sorting list of length 32400...\n",
      "Time elapsed: 13.822324470966123\n",
      "\n",
      "Sorting list of length 34225...\n",
      "Time elapsed: 15.499699427047744\n",
      "\n",
      "Sorting list of length 36100...\n",
      "Time elapsed: 17.211689668009058\n",
      "\n",
      "Sorting list of length 38025...\n",
      "Time elapsed: 19.140808289987035\n",
      "\n",
      "Sorting list of length 40000...\n",
      "Time elapsed: 21.164463453926146\n",
      "\n"
     ]
    },
    {
     "data": {
      "image/png": "[encoded data removed]",
      "text/plain": [
       "<Figure size 432x288 with 1 Axes>"
      ]
     },
     "metadata": {},
     "output_type": "display_data"
    }
   ],
   "source": [
    "# Plot runtime for my insertion sort at various sizes of list to sort\n",
    "\n",
    "rng = np.random.default_rng()\n",
    "times = []\n",
    "iters = 1\n",
    "# sizes = [i for i in range(1, 101)]\n",
    "sizes = [i**(2) for i in range(5, 201, 5)]\n",
    "\n",
    "for num_items in sizes:\n",
    "    items = rng.uniform(size = num_items)\n",
    "    sub_times = []\n",
    "    for _ in range(iters):\n",
    "        print(f\"Sorting list of length {num_items}...\")\n",
    "        start = pfc()\n",
    "        insertion_sort(items)\n",
    "        stop = pfc()\n",
    "        elapsed = (stop - start)\n",
    "        print(f\"Time elapsed: {elapsed}\\n\")\n",
    "        sub_times.append(elapsed)\n",
    "        \n",
    "    avg_elapsed = sum(sub_times) / iters\n",
    "    times.append(avg_elapsed)\n",
    "\n",
    "plt.plot(sizes, times)\n",
    "plt.title(\"Time to Run Insertion Sort\")\n",
    "plt.ylabel(\"Time (s)\")\n",
    "plt.xlabel(\"Items to Sort\")\n",
    "plt.savefig(\"insertion_sort.png\", dpi = 400)"
   ]
  },
  {
   "cell_type": "markdown",
   "metadata": {},
   "source": [
    "### Here we learned that, due to having to step through the entire list to compare every element, insertion sort is O(n^2) complexity. Next, we will do merge sort, which has O(n x log(n)) time complexity. We will not be considering space complexity."
   ]
  },
  {
   "cell_type": "code",
   "execution_count": null,
   "metadata": {},
   "outputs": [],
   "source": [
    "# Merge Sort"
   ]
  },
  {
   "cell_type": "code",
   "execution_count": 9,
   "metadata": {},
   "outputs": [
    {
     "data": {
      "text/plain": [
       "1"
      ]
     },
     "execution_count": 9,
     "metadata": {},
     "output_type": "execute_result"
    }
   ],
   "source": [
    "def add(a, b):\n",
    "    return a + b\n",
    "\n",
    "add_l = lambda a, b: a + b\n",
    "\n",
    "stuff = [1, 2, 3]\n",
    "a, *_ = stuff\n",
    "a"
   ]
  }
 ],
 "metadata": {
  "kernelspec": {
   "display_name": "Python 3.10.4 ('rising_sun')",
   "language": "python",
   "name": "python3"
  },
  "language_info": {
   "codemirror_mode": {
    "name": "ipython",
    "version": 3
   },
   "file_extension": ".py",
   "mimetype": "text/x-python",
   "name": "python",
   "nbconvert_exporter": "python",
   "pygments_lexer": "ipython3",
   "version": "3.10.4"
  },
  "orig_nbformat": 4,
  "vscode": {
   "interpreter": {
    "hash": "bebecaaf41780d017764b59d9fbf95c0501ae565161cbfe7bdcfa8b1930c3dd6"
   }
  }
 },
 "nbformat": 4,
 "nbformat_minor": 2
}
