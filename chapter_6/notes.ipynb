{
 "cells": [
  {
   "cell_type": "markdown",
   "metadata": {},
   "source": [
    "# Chapter 6: Advanced Optimization\n",
    "\n",
    "### Topics: \n",
    "\n",
    "* Travelling Salesman Problem\n",
    "\n",
    "* "
   ]
  },
  {
   "cell_type": "code",
   "execution_count": 57,
   "metadata": {},
   "outputs": [],
   "source": [
    "import matplotlib.pyplot as plt\n",
    "from matplotlib.cm import get_cmap\n",
    "import numpy as np"
   ]
  },
  {
   "cell_type": "code",
   "execution_count": 81,
   "metadata": {},
   "outputs": [],
   "source": [
    "# misc. setup\n",
    "seed = 420\n",
    "rng = np.random.default_rng(seed)\n",
    "%matplotlib qt5"
   ]
  },
  {
   "cell_type": "code",
   "execution_count": 82,
   "metadata": {},
   "outputs": [],
   "source": [
    "### setup for travelling salesman visualization ###\n",
    "\n",
    "# make points\n",
    "num_points = 10\n",
    "grid_size = 10\n",
    "start = 1\n",
    "ax_range = range(start, start+grid_size)\n",
    "all_points = [(x, y) for x in ax_range for y in ax_range]\n",
    "\n",
    "cm_points = rng.choice(a=all_points, size=num_points, replace=False)\n",
    "rm_points = cm_points.T\n",
    "x, y = rm_points\n"
   ]
  },
  {
   "cell_type": "code",
   "execution_count": 80,
   "metadata": {},
   "outputs": [
    {
     "ename": "TypeError",
     "evalue": "only integer scalar arrays can be converted to a scalar index",
     "output_type": "error",
     "traceback": [
      "\u001b[0;31m---------------------------------------------------------------------------\u001b[0m",
      "\u001b[0;31mTypeError\u001b[0m                                 Traceback (most recent call last)",
      "\u001b[1;32m/Users/joshuaelms/Desktop/github_repos/dive_into_algorithms/chapter_6/notes.ipynb Cell 5\u001b[0m in \u001b[0;36m<cell line: 8>\u001b[0;34m()\u001b[0m\n\u001b[1;32m      <a href='vscode-notebook-cell:/Users/joshuaelms/Desktop/github_repos/dive_into_algorithms/chapter_6/notes.ipynb#ch0000005?line=3'>4</a>\u001b[0m     order \u001b[39m=\u001b[39m rng\u001b[39m.\u001b[39mchoice(indices, size\u001b[39m=\u001b[39mindices\u001b[39m.\u001b[39msize, replace\u001b[39m=\u001b[39m\u001b[39mFalse\u001b[39;00m)\n\u001b[1;32m      <a href='vscode-notebook-cell:/Users/joshuaelms/Desktop/github_repos/dive_into_algorithms/chapter_6/notes.ipynb#ch0000005?line=5'>6</a>\u001b[0m     \u001b[39mreturn\u001b[39;00m order\n\u001b[0;32m----> <a href='vscode-notebook-cell:/Users/joshuaelms/Desktop/github_repos/dive_into_algorithms/chapter_6/notes.ipynb#ch0000005?line=7'>8</a>\u001b[0m random_traverse(cm_points)\n",
      "\u001b[1;32m/Users/joshuaelms/Desktop/github_repos/dive_into_algorithms/chapter_6/notes.ipynb Cell 5\u001b[0m in \u001b[0;36mrandom_traverse\u001b[0;34m(points)\u001b[0m\n\u001b[1;32m      <a href='vscode-notebook-cell:/Users/joshuaelms/Desktop/github_repos/dive_into_algorithms/chapter_6/notes.ipynb#ch0000005?line=1'>2</a>\u001b[0m \u001b[39mdef\u001b[39;00m \u001b[39mrandom_traverse\u001b[39m(points):\n\u001b[0;32m----> <a href='vscode-notebook-cell:/Users/joshuaelms/Desktop/github_repos/dive_into_algorithms/chapter_6/notes.ipynb#ch0000005?line=2'>3</a>\u001b[0m     indices \u001b[39m=\u001b[39m np\u001b[39m.\u001b[39;49mindices(points)\n\u001b[1;32m      <a href='vscode-notebook-cell:/Users/joshuaelms/Desktop/github_repos/dive_into_algorithms/chapter_6/notes.ipynb#ch0000005?line=3'>4</a>\u001b[0m     order \u001b[39m=\u001b[39m rng\u001b[39m.\u001b[39mchoice(indices, size\u001b[39m=\u001b[39mindices\u001b[39m.\u001b[39msize, replace\u001b[39m=\u001b[39m\u001b[39mFalse\u001b[39;00m)\n\u001b[1;32m      <a href='vscode-notebook-cell:/Users/joshuaelms/Desktop/github_repos/dive_into_algorithms/chapter_6/notes.ipynb#ch0000005?line=5'>6</a>\u001b[0m     \u001b[39mreturn\u001b[39;00m order\n",
      "File \u001b[0;32m~/.virtualenvs/rising_sun/lib/python3.10/site-packages/numpy/core/numeric.py:1770\u001b[0m, in \u001b[0;36mindices\u001b[0;34m(dimensions, dtype, sparse)\u001b[0m\n\u001b[1;32m   1768\u001b[0m     res \u001b[39m=\u001b[39m \u001b[39mtuple\u001b[39m()\n\u001b[1;32m   1769\u001b[0m \u001b[39melse\u001b[39;00m:\n\u001b[0;32m-> 1770\u001b[0m     res \u001b[39m=\u001b[39m empty((N,)\u001b[39m+\u001b[39;49mdimensions, dtype\u001b[39m=\u001b[39;49mdtype)\n\u001b[1;32m   1771\u001b[0m \u001b[39mfor\u001b[39;00m i, dim \u001b[39min\u001b[39;00m \u001b[39menumerate\u001b[39m(dimensions):\n\u001b[1;32m   1772\u001b[0m     idx \u001b[39m=\u001b[39m arange(dim, dtype\u001b[39m=\u001b[39mdtype)\u001b[39m.\u001b[39mreshape(\n\u001b[1;32m   1773\u001b[0m         shape[:i] \u001b[39m+\u001b[39m (dim,) \u001b[39m+\u001b[39m shape[i\u001b[39m+\u001b[39m\u001b[39m1\u001b[39m:]\n\u001b[1;32m   1774\u001b[0m     )\n",
      "\u001b[0;31mTypeError\u001b[0m: only integer scalar arrays can be converted to a scalar index"
     ]
    }
   ],
   "source": [
    "# determine order to traverse points in \n",
    "def random_traverse(points):\n",
    "    indices = np.indices(points)\n",
    "    order = rng.choice(indices, size=indices.size, replace=False)\n",
    "\n",
    "    return order\n",
    "\n",
    "random_traverse(cm_points)\n"
   ]
  },
  {
   "cell_type": "code",
   "execution_count": 79,
   "metadata": {},
   "outputs": [
    {
     "data": {
      "text/plain": [
       "array([1, 3, 2, 4])"
      ]
     },
     "execution_count": 79,
     "metadata": {},
     "output_type": "execute_result"
    }
   ],
   "source": [
    "arr = np.array((1, 2, 3, 4))\n"
   ]
  },
  {
   "cell_type": "code",
   "execution_count": 83,
   "metadata": {},
   "outputs": [
    {
     "name": "stdout",
     "output_type": "stream",
     "text": [
      "0: 9, 4\n",
      "1: 5, 1\n",
      "2: 8, 2\n",
      "3: 4, 9\n",
      "4: 2, 2\n",
      "5: 9, 9\n",
      "6: 6, 7\n",
      "7: 10, 5\n",
      "8: 7, 5\n",
      "9: 1, 2\n"
     ]
    }
   ],
   "source": [
    "# plot all points\n",
    "\n",
    "plt.clf()\n",
    "fig, ax = plt.subplots()\n",
    "\n",
    "# # plot first \n",
    "# ax.plot(\n",
    "#     (x[0], x[-1]), (y[0], y[-1]),\n",
    "#     linewidth=0, \n",
    "#     marker=\"o\",\n",
    "#     markersize=20,\n",
    "#     markeredgewidth=2,\n",
    "#     markeredgecolor=\"green\"\n",
    "#     )\n",
    "cmap = get_cmap(\"magma\")\n",
    "# plot inner points\n",
    "for i, (x_i, y_i) in enumerate(cm_points):\n",
    "    print(f\"{i}: {x_i}, {y_i}\")\n",
    "    ax.plot(\n",
    "        x_i, y_i,\n",
    "        linewidth=0,\n",
    "        marker=\"o\",\n",
    "        markersize=18,\n",
    "        fillstyle=\"none\",\n",
    "        markeredgewidth=2,\n",
    "        markeredgecolor=cmap(1 - (i / num_points))\n",
    "    )\n",
    "# ax.plot(\n",
    "#     x, y, \n",
    "#     linewidth=0, \n",
    "#     marker=\"o\",\n",
    "#     markersize=18,\n",
    "#     fillstyle=\"none\",\n",
    "#     markeredgewidth=2,\n",
    "#     markeredgecolor=\"blue\"\n",
    "#     )\n",
    "\n",
    "for i, point in enumerate(cm_points):\n",
    "    x_p, y_p = point\n",
    "    ax.text(\n",
    "        x=x_p, \n",
    "        y=y_p, \n",
    "        s=f\"{i}\",\n",
    "        horizontalalignment='center', \n",
    "        verticalalignment='center',\n",
    "        )\n",
    "\n",
    "line_order = []\n",
    "for i, line in enumerate(line_order):\n",
    "    pass\n",
    "\n",
    "plt.gray()\n",
    "\n",
    "plt.show()"
   ]
  }
 ],
 "metadata": {
  "kernelspec": {
   "display_name": "Python 3.10.4 ('rising_sun')",
   "language": "python",
   "name": "python3"
  },
  "language_info": {
   "codemirror_mode": {
    "name": "ipython",
    "version": 3
   },
   "file_extension": ".py",
   "mimetype": "text/x-python",
   "name": "python",
   "nbconvert_exporter": "python",
   "pygments_lexer": "ipython3",
   "version": "3.10.4"
  },
  "orig_nbformat": 4,
  "vscode": {
   "interpreter": {
    "hash": "bebecaaf41780d017764b59d9fbf95c0501ae565161cbfe7bdcfa8b1930c3dd6"
   }
  }
 },
 "nbformat": 4,
 "nbformat_minor": 2
}
