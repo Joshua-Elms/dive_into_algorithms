{
 "cells": [
  {
   "cell_type": "markdown",
   "metadata": {},
   "source": [
    "# Chapter 6: Advanced Optimization\n",
    "\n",
    "### Topics: \n",
    "\n",
    "* Travelling Salesman Problem\n",
    "\n",
    "* "
   ]
  },
  {
   "cell_type": "code",
   "execution_count": 2,
   "metadata": {},
   "outputs": [],
   "source": [
    "import matplotlib.pyplot as plt\n",
    "import numpy as np"
   ]
  },
  {
   "cell_type": "code",
   "execution_count": 19,
   "metadata": {},
   "outputs": [],
   "source": [
    "# misc. setup\n",
    "seed = 420\n",
    "rng = np.random.default_rng(seed)\n",
    "%matplotlib qt5"
   ]
  },
  {
   "cell_type": "code",
   "execution_count": 50,
   "metadata": {},
   "outputs": [],
   "source": [
    "### setup for travelling salesman visualization ###\n",
    "\n",
    "# make points\n",
    "num_points = 10\n",
    "grid_size = 10\n",
    "start = 1\n",
    "ax_range = range(start, start+grid_size)\n",
    "all_points = [(x, y) for x in ax_range for y in ax_range]\n",
    "\n",
    "cm_points = rng.choice(a=all_points, size=num_points, replace=False)\n",
    "rm_points = cm_points.T\n",
    "x, y = rm_points\n"
   ]
  },
  {
   "cell_type": "code",
   "execution_count": 79,
   "metadata": {},
   "outputs": [],
   "source": [
    "# plot all points\n",
    "\n",
    "plt.clf()\n",
    "fig, ax = plt.subplots()\n",
    "\n",
    "# plot first \n",
    "ax.plot(\n",
    "    (x[0], x[-1]), (y[0], y[-1]),\n",
    "    linewidth=0, \n",
    "    marker=\"o\",\n",
    "    markersize=20,\n",
    "    fillstyle=\"none\",\n",
    "    markeredgewidth=2,\n",
    "    markeredgecolor=\"green\"\n",
    "    )\n",
    "\n",
    "# plot inner points\n",
    "ax.plot(\n",
    "    x[1:-1], y[1:-1], \n",
    "    linewidth=0, \n",
    "    marker=\"o\",\n",
    "    markersize=18,\n",
    "    fillstyle=\"none\",\n",
    "    markeredgewidth=2,\n",
    "    markeredgecolor=\"blue\"\n",
    "    )\n",
    "\n",
    "for i, point in enumerate(cm_points):\n",
    "    x_p, y_p = point\n",
    "    ax.text(\n",
    "        x=x_p, \n",
    "        y=y_p, \n",
    "        s=f\"{i}\",\n",
    "        horizontalalignment='center', \n",
    "        verticalalignment='center',\n",
    "        )\n",
    "\n",
    "line_order = []\n",
    "for i, line in enumerate(line_order):\n",
    "    pass\n",
    "\n",
    "plt.show()"
   ]
  }
 ],
 "metadata": {
  "kernelspec": {
   "display_name": "Python 3.10.4 ('rising_sun')",
   "language": "python",
   "name": "python3"
  },
  "language_info": {
   "codemirror_mode": {
    "name": "ipython",
    "version": 3
   },
   "file_extension": ".py",
   "mimetype": "text/x-python",
   "name": "python",
   "nbconvert_exporter": "python",
   "pygments_lexer": "ipython3",
   "version": "3.10.4"
  },
  "orig_nbformat": 4,
  "vscode": {
   "interpreter": {
    "hash": "bebecaaf41780d017764b59d9fbf95c0501ae565161cbfe7bdcfa8b1930c3dd6"
   }
  }
 },
 "nbformat": 4,
 "nbformat_minor": 2
}
