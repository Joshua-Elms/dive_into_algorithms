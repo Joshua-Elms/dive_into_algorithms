{
 "cells": [
  {
   "cell_type": "markdown",
   "metadata": {},
   "source": [
    "# Chapter 2: Algorithms in History\n",
    "\n",
    "### We will be covering a few algorithms:\n",
    "\n",
    "* Russian Peasant Multiplication (RPM)\n",
    "\n",
    "* Euclid's Algorithm\n",
    "\n",
    "* Japanese Magic Squares"
   ]
  },
  {
   "cell_type": "code",
   "execution_count": 4,
   "metadata": {},
   "outputs": [
    {
     "data": {
      "text/plain": [
       "1602"
      ]
     },
     "execution_count": 4,
     "metadata": {},
     "output_type": "execute_result"
    }
   ],
   "source": [
    "def russian_peasant_multiplication(a, b):\n",
    "    \"\"\"\n",
    "    Method to find the product of two numbers. \n",
    "    1: Perform integer division on a, saving results to list until it reaches 1\n",
    "    2: For every item in halving list, double b and add to doubling list\n",
    "    3: For every even item in halving list, remove that index position for both halving and doubling lists\n",
    "    4: Return the sum of the doubling list\n",
    "    \"\"\"\n",
    "    a, b = sorted([a, b])\n",
    "\n",
    "    halving = [a]\n",
    "\n",
    "    while True:\n",
    "        a = a // 2\n",
    "        halving.append(a)\n",
    "\n",
    "        if a == 1:\n",
    "            break\n",
    "\n",
    "    doubling = [b * (2**i) for i in range(len(halving))]\n",
    "\n",
    "    final_doubles = []\n",
    "\n",
    "    for i, val in enumerate(halving):\n",
    "        if val % 2:\n",
    "            final_doubles.append(doubling[i])\n",
    "\n",
    "    sum_doubling = sum(final_doubles)\n",
    "\n",
    "    return sum_doubling\n",
    "\n",
    "russian_peasant_multiplication(89, 18)"
   ]
  },
  {
   "cell_type": "code",
   "execution_count": 6,
   "metadata": {},
   "outputs": [
    {
     "data": {
      "text/plain": [
       "3"
      ]
     },
     "execution_count": 6,
     "metadata": {},
     "output_type": "execute_result"
    }
   ],
   "source": [
    "euclids_algorithm = lambda x, y: x if y == 0 else euclids_algorithm(y, x % y)\n",
    "\n",
    "euclids_algorithm(105, 33)"
   ]
  },
  {
   "cell_type": "code",
   "execution_count": null,
   "metadata": {},
   "outputs": [],
   "source": [
    "def verifysquare(square):\n",
    "    \"\"\"\n",
    "    I totally stole this from the book, cause it checks out and I would be really bored writing this myself\n",
    "    \"\"\"\n",
    "    sums = []\n",
    "    rowsums = [sum(square[i]) for i in range(0,len(square))]\n",
    "    sums.append(rowsums)\n",
    "    colsums = [sum([row[i] for row in square]) for i in range(0,len(square))]\n",
    "    sums.append(colsums)\n",
    "    maindiag = sum([square[i][i] for i in range(0,len(square))])\n",
    "    sums.append([maindiag])\n",
    "    antidiag = sum([square[i][len(square) - 1 - i] for i in \\\n",
    "range(0,len(square))])\n",
    "    sums.append([antidiag])\n",
    "    flattened = [j for i in sums for j in i]\n",
    "    return(len(list(set(flattened))) == 1)"
   ]
  },
  {
   "cell_type": "code",
   "execution_count": 66,
   "metadata": {},
   "outputs": [],
   "source": [
    "def prettify(square):\n",
    "    \"\"\"\n",
    "    This function is 1) a mess and 2) not actually part of the chapter, but I wanted a nicer way to display japanese magic squares\n",
    "    \"\"\"\n",
    "    max_len = 0\n",
    "    for row in square:\n",
    "        for item in row:\n",
    "            if len(str(item)) > max_len:\n",
    "                max_len = len(str(item))\n",
    "    \n",
    "    h_buff = 1\n",
    "    side_length = len(square)\n",
    "    h_side_len = side_length * (max_len + 2 * h_buff + 1) + 1\n",
    "    upper = \"_\" * h_side_len\n",
    "    lower = \"\\u203e\" * h_side_len\n",
    "    inner_h_bar = (\"-\" * (max_len + 2 * h_buff)).join(list(\"|\" * (side_length + 1)))\n",
    "    make_str_of_row = lambda row: (\"|\" + \"|\".join([f\"{item}\".center(max_len + 2 * h_buff) for item in row]) + \"|\")\n",
    "    insides = \"\"\n",
    "    for i, row in enumerate(square):\n",
    "        insides += make_str_of_row(row) + \"\\n\"\n",
    "        if i < side_length - 1:\n",
    "            insides += inner_h_bar + \"\\n\"\n",
    "\n",
    "    pretty_square = f\"{upper}\\n{insides}{lower}\"\n",
    "\n",
    "    return pretty_square\n",
    "\n",
    "# square = [[i + j for j in range(3)] for i in range(0, 9, 3)]\n",
    "# print(prettify(square))"
   ]
  },
  {
   "cell_type": "code",
   "execution_count": 68,
   "metadata": {},
   "outputs": [
    {
     "name": "stdout",
     "output_type": "stream",
     "text": [
      "_______________________________\n",
      "| nan | nan | nan | nan | nan |\n",
      "|-----|-----|-----|-----|-----|\n",
      "| nan | nan |  25 | nan | nan |\n",
      "|-----|-----|-----|-----|-----|\n",
      "| nan |  5  |  13 |  21 | nan |\n",
      "|-----|-----|-----|-----|-----|\n",
      "| nan | nan |  1  | nan | nan |\n",
      "|-----|-----|-----|-----|-----|\n",
      "| nan | nan | nan | nan | nan |\n",
      "‾‾‾‾‾‾‾‾‾‾‾‾‾‾‾‾‾‾‾‾‾‾‾‾‾‾‾‾‾‾‾\n"
     ]
    }
   ],
   "source": [
    "def kurushimas(n):\n",
    "    \"\"\"\n",
    "    Generate magic square of dims n x n, n must be odd and greater than or equal to 3 for it to function\n",
    "\n",
    "    FYI: I got crazy bored with the code for magic squares and it doesn't really have any application at all, so I'll just consider the pretty-print squares a win and stop there with this subject\n",
    "    \"\"\"\n",
    "    if n % 2 == 0 or n < 3:\n",
    "        raise ValueError(\"Maybe try reading the docstring next time :)\")\n",
    "\n",
    "    square = [[float(\"nan\") for _ in range(n)] for _ in range(n)]\n",
    "\n",
    "    # fill out center of square\n",
    "    middle = n // 2\n",
    "    square[middle][middle - 1] = n\n",
    "    square[middle][middle + 0] = (n ** 2  + 1) // 2 # Integer division instead of regular because value is always even and this looks nicer than casting to int\n",
    "    square[middle][middle + 1] = n ** 2 + 1 - n\n",
    "    square[middle - 1][middle] = n ** 2\n",
    "    square[middle + 1][middle] = 1\n",
    "\n",
    "    return square\n",
    "\n",
    "square = kurushimas(5)\n",
    "print(prettify(square))\n"
   ]
  }
 ],
 "metadata": {
  "kernelspec": {
   "display_name": "Python 3.10.4 ('rising_sun')",
   "language": "python",
   "name": "python3"
  },
  "language_info": {
   "codemirror_mode": {
    "name": "ipython",
    "version": 3
   },
   "file_extension": ".py",
   "mimetype": "text/x-python",
   "name": "python",
   "nbconvert_exporter": "python",
   "pygments_lexer": "ipython3",
   "version": "3.10.4"
  },
  "orig_nbformat": 4,
  "vscode": {
   "interpreter": {
    "hash": "bebecaaf41780d017764b59d9fbf95c0501ae565161cbfe7bdcfa8b1930c3dd6"
   }
  }
 },
 "nbformat": 4,
 "nbformat_minor": 2
}
