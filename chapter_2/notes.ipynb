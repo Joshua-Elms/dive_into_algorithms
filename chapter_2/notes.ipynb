{
 "cells": [
  {
   "cell_type": "markdown",
   "metadata": {},
   "source": [
    "# Chapter 2: Algorithms in History\n",
    "\n",
    "### We will be covering a few algorithms:\n",
    "\n",
    "* Russian Peasant Multiplication (RPM)\n",
    "\n",
    "* Euclid's Algorithms\n",
    "\n",
    "* Japanese Magic Squares"
   ]
  },
  {
   "cell_type": "code",
   "execution_count": 2,
   "metadata": {},
   "outputs": [
    {
     "data": {
      "text/plain": [
       "1602"
      ]
     },
     "execution_count": 2,
     "metadata": {},
     "output_type": "execute_result"
    }
   ],
   "source": [
    "def russian_peasant_multiplication(a, b):\n",
    "    \"\"\"\n",
    "    Method to find the product of two numbers. \n",
    "    1: Perform integer division on a, saving results to list until it reaches 1\n",
    "    2: For every item in halving list, double b and add to doubling list\n",
    "    3: For every even item in halving list, remove that index position for both halving and doubling lists\n",
    "    4: Return the sum of the doubling list\n",
    "    \"\"\"\n",
    "    halving = [a]\n",
    "\n",
    "    while True:\n",
    "        a = a // 2\n",
    "        halving.append(a)\n",
    "\n",
    "        if a == 1:\n",
    "            break\n",
    "\n",
    "    doubling = [18 * (2**i) for i in range(len(halving))]\n",
    "\n",
    "    final_doubles = []\n",
    "\n",
    "    for i, val in enumerate(halving):\n",
    "        if val % 2:\n",
    "            final_doubles.append(doubling[i])\n",
    "\n",
    "    sum_doubling = sum(final_doubles)\n",
    "\n",
    "    return sum_doubling\n",
    "\n",
    "russian_peasant_multiplication(89, 18)"
   ]
  }
 ],
 "metadata": {
  "kernelspec": {
   "display_name": "Python 3.10.4 ('rising_sun')",
   "language": "python",
   "name": "python3"
  },
  "language_info": {
   "codemirror_mode": {
    "name": "ipython",
    "version": 3
   },
   "file_extension": ".py",
   "mimetype": "text/x-python",
   "name": "python",
   "nbconvert_exporter": "python",
   "pygments_lexer": "ipython3",
   "version": "3.10.4"
  },
  "orig_nbformat": 4,
  "vscode": {
   "interpreter": {
    "hash": "bebecaaf41780d017764b59d9fbf95c0501ae565161cbfe7bdcfa8b1930c3dd6"
   }
  }
 },
 "nbformat": 4,
 "nbformat_minor": 2
}
